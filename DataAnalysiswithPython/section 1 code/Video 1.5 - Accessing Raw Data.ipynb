{
 "cells": [
  {
   "cell_type": "markdown",
   "metadata": {},
   "source": [
    "## Video 1.5 Accessing Raw Data\n",
    "\n",
    "In this video, we'll discuss some common file format and how we can access data from Python"
   ]
  },
  {
   "cell_type": "markdown",
   "metadata": {},
   "source": [
    "### Opening and reading files"
   ]
  },
  {
   "cell_type": "code",
   "execution_count": 3,
   "metadata": {},
   "outputs": [
    {
     "name": "stderr",
     "output_type": "stream",
     "text": [
      "ERROR:root:Line magic function `%cat` not found.\n"
     ]
    }
   ],
   "source": [
    "%cat some_file.txt"
   ]
  },
  {
   "cell_type": "code",
   "execution_count": 4,
   "metadata": {},
   "outputs": [
    {
     "name": "stdout",
     "output_type": "stream",
     "text": [
      "This is some file\n",
      "It has a few line\n",
      "This is the last line\n",
      "\n"
     ]
    }
   ],
   "source": [
    "fname = 'some_file.txt'\n",
    "\n",
    "f = open(fname, 'r')\n",
    "content = f.read()\n",
    "f.close()\n",
    "\n",
    "print(content)"
   ]
  },
  {
   "cell_type": "code",
   "execution_count": 6,
   "metadata": {},
   "outputs": [
    {
     "name": "stdout",
     "output_type": "stream",
     "text": [
      "This is some file\n",
      "It has a few line\n",
      "This is the last line\n",
      "\n"
     ]
    }
   ],
   "source": [
    "fname = 'some_file.txt'\n",
    "with open(fname, 'r') as f:\n",
    "    content = f.read()\n",
    "\n",
    "print(content)"
   ]
  },
  {
   "cell_type": "code",
   "execution_count": 7,
   "metadata": {},
   "outputs": [
    {
     "name": "stdout",
     "output_type": "stream",
     "text": [
      "['This is some file\\n', 'It has a few line\\n', 'This is the last line\\n']\n"
     ]
    }
   ],
   "source": [
    "fname = 'some_file.txt'\n",
    "with open(fname, 'r') as f:\n",
    "    content = f.readlines()\n",
    "\n",
    "print(content)"
   ]
  },
  {
   "cell_type": "code",
   "execution_count": 8,
   "metadata": {},
   "outputs": [
    {
     "name": "stdout",
     "output_type": "stream",
     "text": [
      "This is some file\n",
      "\n",
      "It has a few line\n",
      "\n",
      "This is the last line\n",
      "\n"
     ]
    }
   ],
   "source": [
    "fname = 'some_file.txt'\n",
    "with open(fname, 'r') as f:\n",
    "    for line in f:\n",
    "        print(line)"
   ]
  },
  {
   "cell_type": "code",
   "execution_count": 9,
   "metadata": {},
   "outputs": [
    {
     "name": "stdout",
     "output_type": "stream",
     "text": [
      "Line 0: This is some file\n",
      "Line 1: It has a few line\n",
      "Line 2: This is the last line\n"
     ]
    }
   ],
   "source": [
    "fname = 'some_file.txt'\n",
    "with open(fname, 'r') as f:\n",
    "    for i, line in enumerate(f):\n",
    "        print(\"Line {}: {}\".format(i, line.strip()))"
   ]
  },
  {
   "cell_type": "markdown",
   "metadata": {},
   "source": [
    "### CSV files\n",
    "\n",
    "Comma Separated Values\n",
    "\n",
    "This format is very common for import/export for spreadsheet and databases"
   ]
  },
  {
   "cell_type": "code",
   "execution_count": 10,
   "metadata": {},
   "outputs": [
    {
     "name": "stderr",
     "output_type": "stream",
     "text": [
      "ERROR:root:Line magic function `%cat` not found.\n"
     ]
    }
   ],
   "source": [
    "%cat data.csv"
   ]
  },
  {
   "cell_type": "code",
   "execution_count": 11,
   "metadata": {},
   "outputs": [
    {
     "name": "stdout",
     "output_type": "stream",
     "text": [
      "Headers = ['NAME', 'AGE', 'LANGUAGE']\n",
      "['Alice', '30', 'English']\n",
      "['Bob', '25', 'Spanish']\n",
      "['Charlie', '35', 'French']\n"
     ]
    }
   ],
   "source": [
    "import csv\n",
    "\n",
    "fname = 'data.csv'\n",
    "\n",
    "with open(fname, 'r') as f:\n",
    "    data_reader = csv.reader(f, delimiter=',')\n",
    "    headers = next(data_reader)\n",
    "    print(\"Headers = {}\".format(headers))\n",
    "    for line in data_reader:\n",
    "        print(line)"
   ]
  },
  {
   "cell_type": "code",
   "execution_count": 12,
   "metadata": {},
   "outputs": [
    {
     "name": "stdout",
     "output_type": "stream",
     "text": [
      "['Alice', '30', 'English']\n",
      "['Bob', '25', 'Spanish']\n",
      "['Charlie', '35', 'French']\n"
     ]
    }
   ],
   "source": [
    "fname = 'data_no_header.csv'\n",
    "\n",
    "with open(fname, 'r') as f:\n",
    "    data_reader = csv.reader(f, delimiter=',')\n",
    "    for line in data_reader:\n",
    "        print(line)"
   ]
  },
  {
   "cell_type": "code",
   "execution_count": 13,
   "metadata": {},
   "outputs": [
    {
     "data": {
      "text/plain": [
       "[{'AGE': '30', 'LANGUAGE': 'English', 'NAME': 'Alice'},\n",
       " {'AGE': '25', 'LANGUAGE': 'Spanish', 'NAME': 'Bob'},\n",
       " {'AGE': '35', 'LANGUAGE': 'French', 'NAME': 'Charlie'}]"
      ]
     },
     "execution_count": 13,
     "metadata": {},
     "output_type": "execute_result"
    }
   ],
   "source": [
    "fname = 'data.csv'\n",
    "\n",
    "with open(fname, 'r') as f:\n",
    "    data_reader = csv.reader(f, delimiter=',')\n",
    "    headers = next(data_reader)\n",
    "    data = []\n",
    "    for line in data_reader:\n",
    "        item = {headers[i]: value for i, value in enumerate(line)}\n",
    "        data.append(item)\n",
    "\n",
    "data"
   ]
  },
  {
   "cell_type": "markdown",
   "metadata": {},
   "source": [
    "### JSON\n",
    "\n",
    "JavaScript Object Notation\n",
    "\n",
    "Good for data serialization and communication between services"
   ]
  },
  {
   "cell_type": "code",
   "execution_count": 14,
   "metadata": {},
   "outputs": [
    {
     "name": "stderr",
     "output_type": "stream",
     "text": [
      "ERROR:root:Line magic function `%cat` not found.\n"
     ]
    }
   ],
   "source": [
    "%cat movie.json"
   ]
  },
  {
   "cell_type": "code",
   "execution_count": 15,
   "metadata": {},
   "outputs": [
    {
     "data": {
      "text/plain": [
       "{'actors': ['Brad Pitt', 'Edward Norton', 'Helena Bonham Carter'],\n",
       " 'title': 'Fight Club',\n",
       " 'watched': True,\n",
       " 'year': 1999}"
      ]
     },
     "execution_count": 15,
     "metadata": {},
     "output_type": "execute_result"
    }
   ],
   "source": [
    "import json\n",
    "\n",
    "fname = 'movie.json'\n",
    "with open(fname, 'r') as f:\n",
    "    content = f.read()\n",
    "    movie = json.loads(content)\n",
    "\n",
    "movie"
   ]
  },
  {
   "cell_type": "code",
   "execution_count": 16,
   "metadata": {},
   "outputs": [
    {
     "data": {
      "text/plain": [
       "dict"
      ]
     },
     "execution_count": 16,
     "metadata": {},
     "output_type": "execute_result"
    }
   ],
   "source": [
    "type(movie)"
   ]
  },
  {
   "cell_type": "code",
   "execution_count": 17,
   "metadata": {
    "collapsed": true
   },
   "outputs": [],
   "source": [
    "import json\n",
    "\n",
    "fname = 'movie.json'\n",
    "with open(fname, 'r') as f:\n",
    "    movie_alt = json.load(f)"
   ]
  },
  {
   "cell_type": "code",
   "execution_count": 18,
   "metadata": {},
   "outputs": [
    {
     "data": {
      "text/plain": [
       "True"
      ]
     },
     "execution_count": 18,
     "metadata": {},
     "output_type": "execute_result"
    }
   ],
   "source": [
    "movie == movie_alt"
   ]
  },
  {
   "cell_type": "code",
   "execution_count": 19,
   "metadata": {},
   "outputs": [
    {
     "name": "stdout",
     "output_type": "stream",
     "text": [
      "{\n",
      "    \"title\": \"Fight Club\",\n",
      "    \"watched\": true,\n",
      "    \"year\": 1999,\n",
      "    \"actors\": [\n",
      "        \"Brad Pitt\",\n",
      "        \"Edward Norton\",\n",
      "        \"Helena Bonham Carter\"\n",
      "    ]\n",
      "}\n"
     ]
    }
   ],
   "source": [
    "print(json.dumps(movie, indent=4))"
   ]
  },
  {
   "cell_type": "code",
   "execution_count": 20,
   "metadata": {},
   "outputs": [
    {
     "name": "stderr",
     "output_type": "stream",
     "text": [
      "ERROR:root:Line magic function `%cat` not found.\n"
     ]
    }
   ],
   "source": [
    "%cat movies-90s.jsonl"
   ]
  },
  {
   "cell_type": "code",
   "execution_count": 21,
   "metadata": {},
   "outputs": [
    {
     "name": "stdout",
     "output_type": "stream",
     "text": [
      "Fight Club\n",
      "Goodfellas\n",
      "Forrest Gump\n"
     ]
    }
   ],
   "source": [
    "import json\n",
    "\n",
    "fname = 'movies-90s.jsonl'\n",
    "\n",
    "with open(fname, 'r') as f:\n",
    "    for line in f:\n",
    "        try:\n",
    "            movie = json.loads(line)\n",
    "            print(movie['title'])\n",
    "        except: \n",
    "            ...\n"
   ]
  },
  {
   "cell_type": "markdown",
   "metadata": {},
   "source": [
    "### Pickles: Python object serialization"
   ]
  },
  {
   "cell_type": "code",
   "execution_count": 22,
   "metadata": {},
   "outputs": [
    {
     "data": {
      "text/plain": [
       "{'actors': ['Brad Pitt', 'Edward Norton', 'Helena Bonham Carter'],\n",
       " 'title': 'Fight Club',\n",
       " 'watched': True,\n",
       " 'year': 1999}"
      ]
     },
     "execution_count": 22,
     "metadata": {},
     "output_type": "execute_result"
    }
   ],
   "source": [
    "with open('movie.json', 'r') as f:\n",
    "    content = f.read()\n",
    "    data = json.loads(content)\n",
    "\n",
    "data"
   ]
  },
  {
   "cell_type": "code",
   "execution_count": 23,
   "metadata": {},
   "outputs": [
    {
     "data": {
      "text/plain": [
       "dict"
      ]
     },
     "execution_count": 23,
     "metadata": {},
     "output_type": "execute_result"
    }
   ],
   "source": [
    "type(data)"
   ]
  },
  {
   "cell_type": "code",
   "execution_count": 24,
   "metadata": {
    "collapsed": true
   },
   "outputs": [],
   "source": [
    "import pickle \n",
    "\n",
    "with open('data.pickle', 'wb') as f:\n",
    "    pickle.dump(data, f)"
   ]
  },
  {
   "cell_type": "code",
   "execution_count": 25,
   "metadata": {},
   "outputs": [
    {
     "name": "stderr",
     "output_type": "stream",
     "text": [
      "ERROR:root:Line magic function `%cat` not found.\n"
     ]
    }
   ],
   "source": [
    "%cat data.pickle"
   ]
  },
  {
   "cell_type": "code",
   "execution_count": 26,
   "metadata": {},
   "outputs": [
    {
     "data": {
      "text/plain": [
       "{'actors': ['Brad Pitt', 'Edward Norton', 'Helena Bonham Carter'],\n",
       " 'title': 'Fight Club',\n",
       " 'watched': True,\n",
       " 'year': 1999}"
      ]
     },
     "execution_count": 26,
     "metadata": {},
     "output_type": "execute_result"
    }
   ],
   "source": [
    "with open('data.pickle', 'rb') as f:\n",
    "    data = pickle.load(f)\n",
    "\n",
    "data"
   ]
  },
  {
   "cell_type": "code",
   "execution_count": null,
   "metadata": {
    "collapsed": true
   },
   "outputs": [],
   "source": [
    "type(data)"
   ]
  },
  {
   "cell_type": "code",
   "execution_count": null,
   "metadata": {
    "collapsed": true
   },
   "outputs": [],
   "source": []
  }
 ],
 "metadata": {
  "kernelspec": {
   "display_name": "Python 3",
   "language": "python",
   "name": "python3"
  },
  "language_info": {
   "codemirror_mode": {
    "name": "ipython",
    "version": 3
   },
   "file_extension": ".py",
   "mimetype": "text/x-python",
   "name": "python",
   "nbconvert_exporter": "python",
   "pygments_lexer": "ipython3",
   "version": "3.6.1"
  }
 },
 "nbformat": 4,
 "nbformat_minor": 2
}
